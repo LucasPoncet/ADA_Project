{
 "cells": [
  {
   "cell_type": "code",
   "execution_count": 2,
   "id": "1b585f46",
   "metadata": {},
   "outputs": [
    {
     "data": {
      "text/html": [
       "<div><style>\n",
       ".dataframe > thead > tr,\n",
       ".dataframe > tbody > tr {\n",
       "  text-align: right;\n",
       "  white-space: pre-wrap;\n",
       "}\n",
       "</style>\n",
       "<small>shape: (5, 5)</small><table border=\"1\" class=\"dataframe\"><thead><tr><th>id</th><th>title</th><th>abstract</th><th>categories</th><th>creation_date</th></tr><tr><td>str</td><td>str</td><td>str</td><td>list[str]</td><td>datetime[ns, UTC]</td></tr></thead><tbody><tr><td>&quot;2204.14117&quot;</td><td>&quot;A Comparative Study of Meter D…</td><td>&quot;In order to read meter values …</td><td>[&quot;Computer Science Archive-&gt;cs.CV&quot;]</td><td>2022-04-24 13:59:57 UTC</td></tr><tr><td>&quot;2305.19887&quot;</td><td>&quot;The Markov chain embedding pro…</td><td>&quot;We consider the problem of fin…</td><td>[&quot;Mathematics Archive-&gt;math.PR&quot;]</td><td>2023-05-31 14:24:25 UTC</td></tr><tr><td>&quot;0910.5857&quot;</td><td>&quot;Chaotic Transport and Chronolo…</td><td>&quot;We present a transport model t…</td><td>[&quot;Physics Archive-&gt;astro-ph-&gt;astro-ph.EP&quot;]</td><td>2009-10-30 12:34:26 UTC</td></tr><tr><td>&quot;1801.10207&quot;</td><td>&quot;FITing-Tree: A Data-aware Inde…</td><td>&quot;Index structures are one of th…</td><td>[&quot;Computer Science Archive-&gt;cs.DB&quot;]</td><td>2018-01-30 20:22:53 UTC</td></tr><tr><td>&quot;0803.0849&quot;</td><td>&quot;The Universal Cardinal Orderin…</td><td>&quot;We present the theorem which d…</td><td>[&quot;Physics Archive-&gt;nlin-&gt;nlin.CD&quot;]</td><td>2008-03-06 12:55:48 UTC</td></tr></tbody></table></div>"
      ],
      "text/plain": [
       "shape: (5, 5)\n",
       "┌────────────┬─────────────────────┬─────────────────────┬────────────────────┬────────────────────┐\n",
       "│ id         ┆ title               ┆ abstract            ┆ categories         ┆ creation_date      │\n",
       "│ ---        ┆ ---                 ┆ ---                 ┆ ---                ┆ ---                │\n",
       "│ str        ┆ str                 ┆ str                 ┆ list[str]          ┆ datetime[ns, UTC]  │\n",
       "╞════════════╪═════════════════════╪═════════════════════╪════════════════════╪════════════════════╡\n",
       "│ 2204.14117 ┆ A Comparative Study ┆ In order to read    ┆ [\"Computer Science ┆ 2022-04-24         │\n",
       "│            ┆ of Meter D…         ┆ meter values …      ┆ Archive->cs…       ┆ 13:59:57 UTC       │\n",
       "│ 2305.19887 ┆ The Markov chain    ┆ We consider the     ┆ [\"Mathematics      ┆ 2023-05-31         │\n",
       "│            ┆ embedding pro…      ┆ problem of fin…     ┆ Archive->math.PR…  ┆ 14:24:25 UTC       │\n",
       "│ 0910.5857  ┆ Chaotic Transport   ┆ We present a        ┆ [\"Physics Archive- ┆ 2009-10-30         │\n",
       "│            ┆ and Chronolo…       ┆ transport model t…  ┆ >astro-ph->a…      ┆ 12:34:26 UTC       │\n",
       "│ 1801.10207 ┆ FITing-Tree: A      ┆ Index structures    ┆ [\"Computer Science ┆ 2018-01-30         │\n",
       "│            ┆ Data-aware Inde…    ┆ are one of th…      ┆ Archive->cs…       ┆ 20:22:53 UTC       │\n",
       "│ 0803.0849  ┆ The Universal       ┆ We present the      ┆ [\"Physics Archive- ┆ 2008-03-06         │\n",
       "│            ┆ Cardinal Orderin…   ┆ theorem which d…    ┆ >nlin->nlin.…      ┆ 12:55:48 UTC       │\n",
       "└────────────┴─────────────────────┴─────────────────────┴────────────────────┴────────────────────┘"
      ]
     },
     "execution_count": 2,
     "metadata": {},
     "output_type": "execute_result"
    }
   ],
   "source": [
    "import polars as pl\n",
    "\n",
    "df = pl.read_parquet(\"../data/raw/train.parquet\")\n",
    "df.head()"
   ]
  }
 ],
 "metadata": {
  "kernelspec": {
   "display_name": "UTOKYO-DL-Projet",
   "language": "python",
   "name": "python3"
  },
  "language_info": {
   "codemirror_mode": {
    "name": "ipython",
    "version": 3
   },
   "file_extension": ".py",
   "mimetype": "text/x-python",
   "name": "python",
   "nbconvert_exporter": "python",
   "pygments_lexer": "ipython3",
   "version": "3.11.8"
  }
 },
 "nbformat": 4,
 "nbformat_minor": 5
}
