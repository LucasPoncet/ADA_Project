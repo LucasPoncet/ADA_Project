{
 "cells": [
  {
   "cell_type": "code",
   "execution_count": 3,
   "id": "1b585f46",
   "metadata": {},
   "outputs": [],
   "source": [
    "import polars as pl\n",
    "from pathlib import Path"
   ]
  },
  {
   "cell_type": "code",
   "execution_count": 5,
   "id": "c2499e96",
   "metadata": {},
   "outputs": [],
   "source": [
    "DATA_DIR   = Path(\"../data/raw/\")         \n",
    "TRAIN_PQ   = DATA_DIR / \"train.parquet\"\n",
    "VAL_PQ     = DATA_DIR / \"validation.parquet\"\n",
    "TEST_PQ    = DATA_DIR / \"test.parquet\""
   ]
  },
  {
   "cell_type": "code",
   "execution_count": 6,
   "id": "f1bb99ee",
   "metadata": {},
   "outputs": [],
   "source": [
    "train_pl = pl.read_parquet(TRAIN_PQ)\n",
    "val_pl   = pl.read_parquet(VAL_PQ)\n",
    "test_pl  = pl.read_parquet(TEST_PQ)\n"
   ]
  },
  {
   "cell_type": "code",
   "execution_count": 7,
   "id": "fdf62565",
   "metadata": {},
   "outputs": [
    {
     "name": "stdout",
     "output_type": "stream",
     "text": [
      "train → rows=163,168  cols=5\n",
      "Schema([('id', String), ('title', String), ('abstract', String), ('categories', List(String)), ('creation_date', Datetime(time_unit='ns', time_zone='UTC'))]) \n",
      "\n",
      "val   → rows=20,396  cols=5\n",
      "Schema([('id', String), ('title', String), ('abstract', String), ('categories', List(String)), ('creation_date', Datetime(time_unit='ns', time_zone='UTC'))]) \n",
      "\n",
      "test  → rows=20,397  cols=5\n",
      "Schema([('id', String), ('title', String), ('abstract', String), ('categories', List(String)), ('creation_date', Datetime(time_unit='ns', time_zone='UTC'))]) \n",
      "\n"
     ]
    }
   ],
   "source": [
    "for name, df in [(\"train\", train_pl), (\"val\", val_pl), (\"test\", test_pl)]:\n",
    "    print(f\"{name:5s} → rows={df.height:,}  cols={df.width}\")\n",
    "    print(df.schema, \"\\n\")\n"
   ]
  },
  {
   "cell_type": "code",
   "execution_count": 10,
   "id": "537d29f7",
   "metadata": {},
   "outputs": [
    {
     "data": {
      "text/html": [
       "<div><style>\n",
       ".dataframe > thead > tr,\n",
       ".dataframe > tbody > tr {\n",
       "  text-align: right;\n",
       "  white-space: pre-wrap;\n",
       "}\n",
       "</style>\n",
       "<small>shape: (1, 5)</small><table border=\"1\" class=\"dataframe\"><thead><tr><th>id</th><th>title</th><th>abstract</th><th>categories</th><th>creation_date</th></tr><tr><td>f32</td><td>f32</td><td>f32</td><td>f32</td><td>f32</td></tr></thead><tbody><tr><td>0.0</td><td>0.0</td><td>0.0</td><td>0.0</td><td>0.0</td></tr></tbody></table></div>"
      ],
      "text/plain": [
       "shape: (1, 5)\n",
       "┌─────┬───────┬──────────┬────────────┬───────────────┐\n",
       "│ id  ┆ title ┆ abstract ┆ categories ┆ creation_date │\n",
       "│ --- ┆ ---   ┆ ---      ┆ ---        ┆ ---           │\n",
       "│ f32 ┆ f32   ┆ f32      ┆ f32        ┆ f32           │\n",
       "╞═════╪═══════╪══════════╪════════════╪═══════════════╡\n",
       "│ 0.0 ┆ 0.0   ┆ 0.0      ┆ 0.0        ┆ 0.0           │\n",
       "└─────┴───────┴──────────┴────────────┴───────────────┘"
      ]
     },
     "execution_count": 10,
     "metadata": {},
     "output_type": "execute_result"
    }
   ],
   "source": [
    "def null_report(df: pl.DataFrame):\n",
    "    return (df\n",
    "            .null_count().with_columns(pl.col(\"*\").cast(pl.Float32)/df.height))\n",
    "\n",
    "\n",
    "null_report(train_pl)\n",
    "null_report(val_pl)\n",
    "null_report(test_pl)"
   ]
  },
  {
   "cell_type": "code",
   "execution_count": 13,
   "id": "1f33b784",
   "metadata": {},
   "outputs": [
    {
     "data": {
      "text/html": [
       "<div><style>\n",
       ".dataframe > thead > tr,\n",
       ".dataframe > tbody > tr {\n",
       "  text-align: right;\n",
       "  white-space: pre-wrap;\n",
       "}\n",
       "</style>\n",
       "<small>shape: (312, 2)</small><table border=\"1\" class=\"dataframe\"><thead><tr><th>categories</th><th>len</th></tr><tr><td>list[str]</td><td>u32</td></tr></thead><tbody><tr><td>[&quot;Physics Archive-&gt;astro-ph&quot;]</td><td>7649</td></tr><tr><td>[&quot;Physics Archive-&gt;hep-&gt;hep-ph&quot;]</td><td>7059</td></tr><tr><td>[&quot;Physics Archive-&gt;quant-ph&quot;]</td><td>5865</td></tr><tr><td>[&quot;Physics Archive-&gt;hep-&gt;hep-th&quot;]</td><td>5109</td></tr><tr><td>[&quot;Computer Science Archive-&gt;cs.CV&quot;]</td><td>4595</td></tr><tr><td>&hellip;</td><td>&hellip;</td></tr><tr><td>[&quot;Mathematics Archive-&gt;math.FA&quot;, &quot;Mathematics Archive-&gt;math.PR&quot;]</td><td>81</td></tr><tr><td>[&quot;Physics Archive-&gt;physics-&gt;physics.data-an&quot;]</td><td>81</td></tr><tr><td>[&quot;Physics Archive-&gt;hep-&gt;hep-ex&quot;, &quot;Physics Archive-&gt;hep-&gt;hep-lat&quot;, &quot;Physics Archive-&gt;hep-&gt;hep-ph&quot;]</td><td>81</td></tr><tr><td>[&quot;Physics Archive-&gt;astro-ph&quot;, &quot;Physics Archive-&gt;gr-qc&quot;, &quot;Physics Archive-&gt;hep-&gt;hep-ph&quot;]</td><td>80</td></tr><tr><td>[&quot;Mathematics Archive-&gt;math.DS&quot;, &quot;Mathematics Archive-&gt;math.PR&quot;]</td><td>80</td></tr></tbody></table></div>"
      ],
      "text/plain": [
       "shape: (312, 2)\n",
       "┌─────────────────────────────────┬──────┐\n",
       "│ categories                      ┆ len  │\n",
       "│ ---                             ┆ ---  │\n",
       "│ list[str]                       ┆ u32  │\n",
       "╞═════════════════════════════════╪══════╡\n",
       "│ [\"Physics Archive->astro-ph\"]   ┆ 7649 │\n",
       "│ [\"Physics Archive->hep->hep-ph… ┆ 7059 │\n",
       "│ [\"Physics Archive->quant-ph\"]   ┆ 5865 │\n",
       "│ [\"Physics Archive->hep->hep-th… ┆ 5109 │\n",
       "│ [\"Computer Science Archive->cs… ┆ 4595 │\n",
       "│ …                               ┆ …    │\n",
       "│ [\"Mathematics Archive->math.FA… ┆ 81   │\n",
       "│ [\"Physics Archive->physics->ph… ┆ 81   │\n",
       "│ [\"Physics Archive->hep->hep-ex… ┆ 81   │\n",
       "│ [\"Physics Archive->astro-ph\", … ┆ 80   │\n",
       "│ [\"Mathematics Archive->math.DS… ┆ 80   │\n",
       "└─────────────────────────────────┴──────┘"
      ]
     },
     "execution_count": 13,
     "metadata": {},
     "output_type": "execute_result"
    }
   ],
   "source": [
    "train_pl.group_by(\"categories\").len().sort(\"len\", descending=True)"
   ]
  },
  {
   "cell_type": "code",
   "execution_count": 18,
   "id": "89321b71",
   "metadata": {},
   "outputs": [
    {
     "name": "stderr",
     "output_type": "stream",
     "text": [
      "/var/folders/pg/sp9kdgzs23z2bvfm7_sn7p640000gn/T/ipykernel_88151/3131108015.py:3: DeprecationWarning: `pl.count()` is deprecated. Please use `pl.len()` instead.\n",
      "(Deprecated in version 0.20.5)\n",
      "  .agg(pl.count().alias(\"count\"))\n"
     ]
    }
   ],
   "source": [
    "(train_pl\n",
    " .group_by(\"categories\")\n",
    " .agg(pl.count().alias(\"count\"))\n",
    " .sort(\"count\", descending=True)\n",
    " .head(20)\n",
    " .select([\"count\", \"categories\"])\n",
    " .write_parquet(\"../data/samples/snapshot_sample.parquet\"))"
   ]
  }
 ],
 "metadata": {
  "kernelspec": {
   "display_name": "UTOKYO-DL-Projet",
   "language": "python",
   "name": "python3"
  },
  "language_info": {
   "codemirror_mode": {
    "name": "ipython",
    "version": 3
   },
   "file_extension": ".py",
   "mimetype": "text/x-python",
   "name": "python",
   "nbconvert_exporter": "python",
   "pygments_lexer": "ipython3",
   "version": "3.11.8"
  }
 },
 "nbformat": 4,
 "nbformat_minor": 5
}
